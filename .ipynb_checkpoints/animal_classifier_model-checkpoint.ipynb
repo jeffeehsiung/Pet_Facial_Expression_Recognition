{
 "cells": [
  {
   "cell_type": "code",
   "execution_count": 1,
   "metadata": {
    "execution": {
     "iopub.execute_input": "2023-11-23T17:25:24.270961Z",
     "iopub.status.busy": "2023-11-23T17:25:24.270264Z",
     "iopub.status.idle": "2023-11-23T17:25:35.263384Z",
     "shell.execute_reply": "2023-11-23T17:25:35.262103Z",
     "shell.execute_reply.started": "2023-11-23T17:25:24.270916Z"
    }
   },
   "outputs": [
    {
     "name": "stderr",
     "output_type": "stream",
     "text": [
      "2023-11-23 22:25:10.229640: I tensorflow/core/platform/cpu_feature_guard.cc:182] This TensorFlow binary is optimized to use available CPU instructions in performance-critical operations.\n",
      "To enable the following instructions: AVX2 AVX512F AVX512_VNNI FMA, in other operations, rebuild TensorFlow with the appropriate compiler flags.\n"
     ]
    }
   ],
   "source": [
    "import cv2\n",
    "import matplotlib.pyplot as plt\n",
    "import tensorflow as tf\n",
    "from tensorflow import keras\n",
    "from keras.models import Sequential\n",
    "from keras.layers import Dense, Conv2D, MaxPooling2D, Flatten, Dropout\n",
    "from keras.preprocessing.image import ImageDataGenerator"
   ]
  },
  {
   "cell_type": "code",
   "execution_count": 2,
   "metadata": {
    "execution": {
     "iopub.execute_input": "2023-11-23T17:25:35.267299Z",
     "iopub.status.busy": "2023-11-23T17:25:35.266012Z",
     "iopub.status.idle": "2023-11-23T17:25:41.131066Z",
     "shell.execute_reply": "2023-11-23T17:25:41.129787Z",
     "shell.execute_reply.started": "2023-11-23T17:25:35.267247Z"
    }
   },
   "outputs": [
    {
     "name": "stdout",
     "output_type": "stream",
     "text": [
      "Found 14630 images belonging to 3 classes.\n",
      "Found 1500 images belonging to 3 classes.\n"
     ]
    }
   ],
   "source": [
    "train_gen=ImageDataGenerator(rescale=1./255)\n",
    "train_data=train_gen.flow_from_directory('afhq/train',target_size=(128,128),batch_size=32,class_mode='categorical',shuffle=True) \n",
    "test_gen=ImageDataGenerator(rescale=1./255)\n",
    "test_data=test_gen.flow_from_directory('afhq/val',target_size=(128,128),batch_size=1,class_mode='categorical',shuffle=False)"
   ]
  },
  {
   "cell_type": "code",
   "execution_count": 3,
   "metadata": {
    "execution": {
     "iopub.execute_input": "2023-11-23T17:25:41.132878Z",
     "iopub.status.busy": "2023-11-23T17:25:41.132529Z",
     "iopub.status.idle": "2023-11-23T17:25:41.480333Z",
     "shell.execute_reply": "2023-11-23T17:25:41.479121Z",
     "shell.execute_reply.started": "2023-11-23T17:25:41.132849Z"
    }
   },
   "outputs": [],
   "source": [
    "# Create a Sequential model\n",
    "classifier_model = Sequential()\n",
    "\n",
    "# Convolutional layers\n",
    "classifier_model.add(Conv2D(32, (3, 3), activation='relu', input_shape=(128, 128, 3), name=\"line\"))\n",
    "classifier_model.add(MaxPooling2D((2, 2)))\n",
    "classifier_model.add(Conv2D(64, (3, 3), activation='relu', name=\"segment\"))\n",
    "classifier_model.add(MaxPooling2D((2, 2)))\n",
    "classifier_model.add(Conv2D(128, (3, 3), activation='relu', name=\"region\"))\n",
    "classifier_model.add(MaxPooling2D((2, 2)))\n",
    "classifier_model.add(Conv2D(256, (3, 3), activation='relu', name=\"surface\"))\n",
    "classifier_model.add(MaxPooling2D((2, 2)))\n",
    "classifier_model.add(Conv2D(512, (3, 3), activation='relu', name=\"contour\"))\n",
    "classifier_model.add(MaxPooling2D((2, 2)))\n",
    "\n",
    "# Flatten the feature maps\n",
    "classifier_model.add(Flatten())\n",
    "\n",
    "# Fully connected layers\n",
    "classifier_model.add(Dense(128, activation='relu', name=\"face\"))\n",
    "classifier_model.add(Dropout(0.5))  # Dropout for regularization\n",
    "classifier_model.add(Dense(3, activation='softmax', name=\"species\"))  # Adjust the output size based on the number of classes"
   ]
  },
  {
   "cell_type": "code",
   "execution_count": 4,
   "metadata": {
    "execution": {
     "iopub.execute_input": "2023-11-23T17:25:41.483912Z",
     "iopub.status.busy": "2023-11-23T17:25:41.483542Z",
     "iopub.status.idle": "2023-11-23T17:25:41.533639Z",
     "shell.execute_reply": "2023-11-23T17:25:41.532484Z",
     "shell.execute_reply.started": "2023-11-23T17:25:41.483880Z"
    }
   },
   "outputs": [
    {
     "name": "stdout",
     "output_type": "stream",
     "text": [
      "Model: \"sequential\"\n",
      "_________________________________________________________________\n",
      " Layer (type)                Output Shape              Param #   \n",
      "=================================================================\n",
      " conv2d (Conv2D)             (None, 126, 126, 32)      896       \n",
      "                                                                 \n",
      " max_pooling2d (MaxPooling2  (None, 63, 63, 32)        0         \n",
      " D)                                                              \n",
      "                                                                 \n",
      " conv2d_1 (Conv2D)           (None, 61, 61, 64)        18496     \n",
      "                                                                 \n",
      " max_pooling2d_1 (MaxPoolin  (None, 30, 30, 64)        0         \n",
      " g2D)                                                            \n",
      "                                                                 \n",
      " conv2d_2 (Conv2D)           (None, 28, 28, 128)       73856     \n",
      "                                                                 \n",
      " max_pooling2d_2 (MaxPoolin  (None, 14, 14, 128)       0         \n",
      " g2D)                                                            \n",
      "                                                                 \n",
      " conv2d_3 (Conv2D)           (None, 12, 12, 256)       295168    \n",
      "                                                                 \n",
      " max_pooling2d_3 (MaxPoolin  (None, 6, 6, 256)         0         \n",
      " g2D)                                                            \n",
      "                                                                 \n",
      " conv2d_4 (Conv2D)           (None, 4, 4, 512)         1180160   \n",
      "                                                                 \n",
      " max_pooling2d_4 (MaxPoolin  (None, 2, 2, 512)         0         \n",
      " g2D)                                                            \n",
      "                                                                 \n",
      " flatten (Flatten)           (None, 2048)              0         \n",
      "                                                                 \n",
      " dense (Dense)               (None, 128)               262272    \n",
      "                                                                 \n",
      " dropout (Dropout)           (None, 128)               0         \n",
      "                                                                 \n",
      " dense_1 (Dense)             (None, 3)                 387       \n",
      "                                                                 \n",
      "=================================================================\n",
      "Total params: 1831235 (6.99 MB)\n",
      "Trainable params: 1831235 (6.99 MB)\n",
      "Non-trainable params: 0 (0.00 Byte)\n",
      "_________________________________________________________________\n"
     ]
    }
   ],
   "source": [
    "classifier_model.summary()"
   ]
  },
  {
   "cell_type": "code",
   "execution_count": 12,
   "metadata": {
    "execution": {
     "iopub.execute_input": "2023-11-23T17:25:41.535556Z",
     "iopub.status.busy": "2023-11-23T17:25:41.535159Z",
     "iopub.status.idle": "2023-11-23T17:25:41.558862Z",
     "shell.execute_reply": "2023-11-23T17:25:41.557551Z",
     "shell.execute_reply.started": "2023-11-23T17:25:41.535524Z"
    }
   },
   "outputs": [],
   "source": [
    "classifier_model.compile(loss='categorical_crossentropy',optimizer='adam',metrics=['accuracy'])"
   ]
  },
  {
   "cell_type": "code",
   "execution_count": 6,
   "metadata": {
    "execution": {
     "iopub.execute_input": "2023-11-23T17:25:41.560910Z",
     "iopub.status.busy": "2023-11-23T17:25:41.560541Z"
    }
   },
   "outputs": [
    {
     "name": "stdout",
     "output_type": "stream",
     "text": [
      "Epoch 1/10\n",
      "458/458 [==============================] - 173s 375ms/step - loss: 0.5859 - accuracy: 0.7272\n",
      "Epoch 2/10\n",
      "458/458 [==============================] - 167s 365ms/step - loss: 0.1662 - accuracy: 0.9420\n",
      "Epoch 3/10\n",
      "458/458 [==============================] - 170s 370ms/step - loss: 0.0982 - accuracy: 0.9664\n",
      "Epoch 4/10\n",
      "458/458 [==============================] - 160s 350ms/step - loss: 0.0652 - accuracy: 0.9779\n",
      "Epoch 5/10\n",
      "458/458 [==============================] - 159s 347ms/step - loss: 0.0458 - accuracy: 0.9836\n",
      "Epoch 6/10\n",
      "458/458 [==============================] - 167s 365ms/step - loss: 0.0428 - accuracy: 0.9852\n",
      "Epoch 7/10\n",
      "458/458 [==============================] - 165s 360ms/step - loss: 0.0281 - accuracy: 0.9906\n",
      "Epoch 8/10\n",
      "458/458 [==============================] - 167s 364ms/step - loss: 0.0255 - accuracy: 0.9916\n",
      "Epoch 9/10\n",
      "458/458 [==============================] - 154s 336ms/step - loss: 0.0344 - accuracy: 0.9891\n",
      "Epoch 10/10\n",
      "458/458 [==============================] - 153s 334ms/step - loss: 0.0192 - accuracy: 0.9934\n"
     ]
    },
    {
     "data": {
      "text/plain": [
       "<keras.src.callbacks.History at 0x14777ae50>"
      ]
     },
     "execution_count": 6,
     "metadata": {},
     "output_type": "execute_result"
    }
   ],
   "source": [
    "classifier_model.fit(train_data,epochs=10,batch_size = 64)"
   ]
  },
  {
   "cell_type": "code",
   "execution_count": 13,
   "metadata": {},
   "outputs": [
    {
     "name": "stdout",
     "output_type": "stream",
     "text": [
      "Model: \"sequential\"\n",
      "_________________________________________________________________\n",
      " Layer (type)                Output Shape              Param #   \n",
      "=================================================================\n",
      " conv2d (Conv2D)             (None, 126, 126, 32)      896       \n",
      "                                                                 \n",
      " max_pooling2d (MaxPooling2  (None, 63, 63, 32)        0         \n",
      " D)                                                              \n",
      "                                                                 \n",
      " conv2d_1 (Conv2D)           (None, 61, 61, 64)        18496     \n",
      "                                                                 \n",
      " max_pooling2d_1 (MaxPoolin  (None, 30, 30, 64)        0         \n",
      " g2D)                                                            \n",
      "                                                                 \n",
      " conv2d_2 (Conv2D)           (None, 28, 28, 128)       73856     \n",
      "                                                                 \n",
      " max_pooling2d_2 (MaxPoolin  (None, 14, 14, 128)       0         \n",
      " g2D)                                                            \n",
      "                                                                 \n",
      " conv2d_3 (Conv2D)           (None, 12, 12, 256)       295168    \n",
      "                                                                 \n",
      " max_pooling2d_3 (MaxPoolin  (None, 6, 6, 256)         0         \n",
      " g2D)                                                            \n",
      "                                                                 \n",
      " conv2d_4 (Conv2D)           (None, 4, 4, 512)         1180160   \n",
      "                                                                 \n",
      " max_pooling2d_4 (MaxPoolin  (None, 2, 2, 512)         0         \n",
      " g2D)                                                            \n",
      "                                                                 \n",
      " flatten (Flatten)           (None, 2048)              0         \n",
      "                                                                 \n",
      " dense (Dense)               (None, 128)               262272    \n",
      "                                                                 \n",
      " dropout (Dropout)           (None, 128)               0         \n",
      "                                                                 \n",
      " dense_1 (Dense)             (None, 3)                 387       \n",
      "                                                                 \n",
      "=================================================================\n",
      "Total params: 1831235 (6.99 MB)\n",
      "Trainable params: 1831235 (6.99 MB)\n",
      "Non-trainable params: 0 (0.00 Byte)\n",
      "_________________________________________________________________\n"
     ]
    }
   ],
   "source": [
    "classifier_model.summary() "
   ]
  },
  {
   "cell_type": "code",
   "execution_count": 14,
   "metadata": {},
   "outputs": [
    {
     "name": "stdout",
     "output_type": "stream",
     "text": [
      "1500/1500 [==============================] - 14s 9ms/step\n"
     ]
    }
   ],
   "source": [
    "pred=classifier_model.predict(test_data).argmax(axis=1)"
   ]
  },
  {
   "cell_type": "code",
   "execution_count": 15,
   "metadata": {},
   "outputs": [],
   "source": [
    "from sklearn.metrics import classification_report"
   ]
  },
  {
   "cell_type": "code",
   "execution_count": 16,
   "metadata": {},
   "outputs": [
    {
     "name": "stdout",
     "output_type": "stream",
     "text": [
      "              precision    recall  f1-score   support\n",
      "\n",
      "           0       0.98      0.98      0.98       500\n",
      "           1       0.92      0.97      0.95       472\n",
      "           2       0.98      0.93      0.95       528\n",
      "\n",
      "    accuracy                           0.96      1500\n",
      "   macro avg       0.96      0.96      0.96      1500\n",
      "weighted avg       0.96      0.96      0.96      1500\n",
      "\n"
     ]
    }
   ],
   "source": [
    "print(classification_report(pred ,test_data.classes ))"
   ]
  },
  {
   "cell_type": "code",
   "execution_count": 17,
   "metadata": {},
   "outputs": [
    {
     "name": "stderr",
     "output_type": "stream",
     "text": [
      "/usr/local/lib/python3.11/site-packages/keras/src/engine/training.py:3079: UserWarning: You are saving your model as an HDF5 file via `model.save()`. This file format is considered legacy. We recommend using instead the native Keras format, e.g. `model.save('my_model.keras')`.\n",
      "  saving_api.save_model(\n"
     ]
    }
   ],
   "source": [
    "classifier_model.save(\"animal_classifier_model.h5\")"
   ]
  },
  {
   "cell_type": "code",
   "execution_count": null,
   "metadata": {},
   "outputs": [],
   "source": []
  }
 ],
 "metadata": {
  "kaggle": {
   "accelerator": "none",
   "dataSources": [
    {
     "datasetId": 667852,
     "sourceId": 1176357,
     "sourceType": "datasetVersion"
    }
   ],
   "dockerImageVersionId": 30558,
   "isGpuEnabled": false,
   "isInternetEnabled": false,
   "language": "python",
   "sourceType": "notebook"
  },
  "kernelspec": {
   "display_name": "Python 3 (ipykernel)",
   "language": "python",
   "name": "python3"
  },
  "language_info": {
   "codemirror_mode": {
    "name": "ipython",
    "version": 3
   },
   "file_extension": ".py",
   "mimetype": "text/x-python",
   "name": "python",
   "nbconvert_exporter": "python",
   "pygments_lexer": "ipython3",
   "version": "3.9.7"
  }
 },
 "nbformat": 4,
 "nbformat_minor": 4
}
